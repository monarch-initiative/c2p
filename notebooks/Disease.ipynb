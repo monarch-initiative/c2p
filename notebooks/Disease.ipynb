{
 "cells": [
  {
   "cell_type": "markdown",
   "id": "5df0c687-b73c-41fc-881e-e11bf3491662",
   "metadata": {},
   "source": [
    "<h1>GA4GH Disease</h1>\n",
    "<p>This notebook demonstrates how to use the oncopacket Python package to create GA4GH Disease messages from Cancer Data Aggregator (CDA) data.\n",
    "We first extract data about a subjects in a CDA cohort and then use the package to create the Individual messages.</p>\n",
    "<p>The data is extracted from the <tt>subject</tt> table of CDA.</p>"
   ]
  },
  {
   "cell_type": "code",
   "execution_count": 1,
   "id": "6d06a90b-6160-4006-95ed-70f110e87129",
   "metadata": {},
   "outputs": [
    {
     "ename": "ModuleNotFoundError",
     "evalue": "No module named 'oncopacket'",
     "output_type": "error",
     "traceback": [
      "\u001b[0;31m---------------------------------------------------------------------------\u001b[0m",
      "\u001b[0;31mModuleNotFoundError\u001b[0m                       Traceback (most recent call last)",
      "\u001b[0;32m<ipython-input-1-c776e998ec5b>\u001b[0m in \u001b[0;36m<module>\u001b[0;34m()\u001b[0m\n\u001b[0;32m----> 1\u001b[0;31m \u001b[0;32mimport\u001b[0m \u001b[0moncopacket\u001b[0m\u001b[0;34m\u001b[0m\u001b[0m\n\u001b[0m\u001b[1;32m      2\u001b[0m \u001b[0;32mfrom\u001b[0m \u001b[0mcollections\u001b[0m \u001b[0;32mimport\u001b[0m \u001b[0mdefaultdict\u001b[0m\u001b[0;34m\u001b[0m\u001b[0m\n",
      "\u001b[0;31mModuleNotFoundError\u001b[0m: No module named 'oncopacket'"
     ]
    }
   ],
   "source": [
    "import oncopacket\n",
    "from collections import defaultdict"
   ]
  },
  {
   "cell_type": "code",
   "execution_count": null,
   "id": "a0240610-8347-4bf5-a5e1-e42d7b5ccf7b",
   "metadata": {},
   "outputs": [],
   "source": []
  }
 ],
 "metadata": {
  "kernelspec": {
   "display_name": "Python 3",
   "language": "python",
   "name": "python3"
  },
  "language_info": {
   "codemirror_mode": {
    "name": "ipython",
    "version": 3
   },
   "file_extension": ".py",
   "mimetype": "text/x-python",
   "name": "python",
   "nbconvert_exporter": "python",
   "pygments_lexer": "ipython3",
   "version": "3.6.5"
  }
 },
 "nbformat": 4,
 "nbformat_minor": 5
}
