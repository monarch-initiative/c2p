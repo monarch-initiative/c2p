{
 "cells": [
  {
   "cell_type": "markdown",
   "metadata": {},
   "source": [
    "# GA4GH Biosample\n",
    "\n",
    "This notebook demonstrates how to use the oncopacket Python package to create GA4GH Individual messages from Cancer Data Aggregator (CDA) data.\n",
    "We first extract data about a specimen in a CDA cohort and then use the package to create the GA4GH [Biosample](https://phenopacket-schema.readthedocs.io/en/latest/biosample.html) messages."
   ]
  },
  {
   "cell_type": "markdown",
   "metadata": {},
   "source": []
  },
  {
   "cell_type": "code",
   "execution_count": 1,
   "metadata": {},
   "outputs": [],
   "source": [
    "from oncoexporter.cda import CdaTableImporter, CdaBiosampleFactory"
   ]
  },
  {
   "cell_type": "code",
   "execution_count": 2,
   "metadata": {},
   "outputs": [],
   "source": [
    "from cdapython import ( Q, set_default_project_dataset, set_host_url, set_table_version )\n",
    "\n",
    "set_default_project_dataset(\"gdc-bq-sample.dev\")\n",
    "set_host_url(\"http://35.192.60.10:8080/\")\n",
    "set_table_version(\"all_merged_subjects_v3_2_final\")"
   ]
  },
  {
   "cell_type": "code",
   "execution_count": 3,
   "metadata": {},
   "outputs": [
    {
     "data": {
      "text/html": [
       "<pre style=\"white-space:pre;overflow-x:auto;line-height:normal;font-family:Menlo,'DejaVu Sans Mono',consolas,'Courier New',monospace\">Retrieving dataframe .cervix cancer cohort_specimen_df.pkl\n",
       "</pre>\n"
      ],
      "text/plain": [
       "Retrieving dataframe .cervix cancer cohort_specimen_df.pkl\n"
      ]
     },
     "metadata": {},
     "output_type": "display_data"
    },
    {
     "data": {
      "text/html": [
       "<pre style=\"white-space:pre;overflow-x:auto;line-height:normal;font-family:Menlo,'DejaVu Sans Mono',consolas,'Courier New',monospace\">calling CDA function\n",
       "</pre>\n"
      ],
      "text/plain": [
       "calling CDA function\n"
      ]
     },
     "metadata": {},
     "output_type": "display_data"
    },
    {
     "data": {
      "text/html": [
       "<pre style=\"white-space:pre;overflow-x:auto;line-height:normal;font-family:Menlo,'DejaVu Sans Mono',consolas,'Courier New',monospace\">Getting <span style=\"color: #008080; text-decoration-color: #008080; font-weight: bold\">10000</span> results from database \n",
       "\n",
       "</pre>\n"
      ],
      "text/plain": [
       "Getting \u001b[1;36m10000\u001b[0m results from database \n",
       "\n"
      ]
     },
     "metadata": {},
     "output_type": "display_data"
    },
    {
     "data": {
      "text/html": [
       "<pre style=\"white-space:pre;overflow-x:auto;line-height:normal;font-family:Menlo,'DejaVu Sans Mono',consolas,'Courier New',monospace\">\n",
       "                            Total execution time: <span style=\"color: #008080; text-decoration-color: #008080; font-weight: bold\">0</span>\n",
       "                            min <span style=\"color: #008080; text-decoration-color: #008080; font-weight: bold\">5.512</span> sec <span style=\"color: #008080; text-decoration-color: #008080; font-weight: bold\">5512</span> ms\n",
       "                            \n",
       "</pre>\n"
      ],
      "text/plain": [
       "\n",
       "                            Total execution time: \u001b[1;36m0\u001b[0m\n",
       "                            min \u001b[1;36m5.512\u001b[0m sec \u001b[1;36m5512\u001b[0m ms\n",
       "                            \n"
      ]
     },
     "metadata": {},
     "output_type": "display_data"
    },
    {
     "data": {
      "text/html": [
       "<pre style=\"white-space:pre;overflow-x:auto;line-height:normal;font-family:Menlo,'DejaVu Sans Mono',consolas,'Courier New',monospace\"></pre>\n"
      ],
      "text/plain": [
       "\u001b[?1049h\u001b[H"
      ]
     },
     "metadata": {},
     "output_type": "display_data"
    },
    {
     "data": {
      "text/html": [
       "<pre style=\"white-space:pre;overflow-x:auto;line-height:normal;font-family:Menlo,'DejaVu Sans Mono',consolas,'Courier New',monospace\"></pre>\n"
      ],
      "text/plain": [
       "\u001b[?25l"
      ]
     },
     "metadata": {},
     "output_type": "display_data"
    },
    {
     "data": {
      "application/vnd.jupyter.widget-view+json": {
       "model_id": "d39b176f44b8402f8c08e093dd010fa8",
       "version_major": 2,
       "version_minor": 0
      },
      "text/plain": [
       "Output()"
      ]
     },
     "metadata": {},
     "output_type": "display_data"
    },
    {
     "data": {
      "text/html": [
       "<pre style=\"white-space:pre;overflow-x:auto;line-height:normal;font-family:Menlo,'DejaVu Sans Mono',consolas,'Courier New',monospace\"></pre>\n"
      ],
      "text/plain": [
       "\u001b[?25h\u001b[?1049l"
      ]
     },
     "metadata": {},
     "output_type": "display_data"
    }
   ],
   "source": [
    "cohort_name = \"cervix cancer cohort\"\n",
    "query = 'treatment_anatomic_site = \"Cervix\"'\n",
    "Tsite = Q('treatment_anatomic_site = \"Cervix\"')\n",
    "tableImporter = CdaTableImporter(cohort_name=cohort_name, query_obj=Tsite)\n",
    "specimen_df = tableImporter.get_specimen_df();"
   ]
  },
  {
   "cell_type": "code",
   "execution_count": 4,
   "metadata": {},
   "outputs": [
    {
     "data": {
      "text/html": [
       "<div>\n",
       "<style scoped>\n",
       "    .dataframe tbody tr th:only-of-type {\n",
       "        vertical-align: middle;\n",
       "    }\n",
       "\n",
       "    .dataframe tbody tr th {\n",
       "        vertical-align: top;\n",
       "    }\n",
       "\n",
       "    .dataframe thead th {\n",
       "        text-align: right;\n",
       "    }\n",
       "</style>\n",
       "<table border=\"1\" class=\"dataframe\">\n",
       "  <thead>\n",
       "    <tr style=\"text-align: right;\">\n",
       "      <th></th>\n",
       "      <th>specimen_id</th>\n",
       "      <th>specimen_identifier</th>\n",
       "      <th>specimen_associated_project</th>\n",
       "      <th>days_to_collection</th>\n",
       "      <th>primary_disease_type</th>\n",
       "      <th>anatomical_site</th>\n",
       "      <th>source_material_type</th>\n",
       "      <th>specimen_type</th>\n",
       "      <th>derived_from_specimen</th>\n",
       "      <th>derived_from_subject</th>\n",
       "      <th>subject_id</th>\n",
       "      <th>researchsubject_id</th>\n",
       "    </tr>\n",
       "  </thead>\n",
       "  <tbody>\n",
       "    <tr>\n",
       "      <th>0</th>\n",
       "      <td>CGCI-HTMCP-CC.HTMCP-03-06-02001.HTMCP-03-06-02...</td>\n",
       "      <td>[{'system': 'GDC', 'field_name': 'case.samples...</td>\n",
       "      <td>CGCI-HTMCP-CC</td>\n",
       "      <td>None</td>\n",
       "      <td>Squamous Cell Neoplasms</td>\n",
       "      <td>None</td>\n",
       "      <td>Primary Tumor</td>\n",
       "      <td>aliquot</td>\n",
       "      <td>CGCI-HTMCP-CC.HTMCP-03-06-02001.HTMCP-03-06-02...</td>\n",
       "      <td>CGCI.HTMCP-03-06-02001</td>\n",
       "      <td>CGCI.HTMCP-03-06-02001</td>\n",
       "      <td>CGCI-HTMCP-CC.HTMCP-03-06-02001</td>\n",
       "    </tr>\n",
       "    <tr>\n",
       "      <th>1</th>\n",
       "      <td>CGCI-HTMCP-CC.HTMCP-03-06-02001.HTMCP-03-06-02...</td>\n",
       "      <td>[{'system': 'GDC', 'field_name': 'case.samples...</td>\n",
       "      <td>CGCI-HTMCP-CC</td>\n",
       "      <td>None</td>\n",
       "      <td>Squamous Cell Neoplasms</td>\n",
       "      <td>None</td>\n",
       "      <td>Blood Derived Normal</td>\n",
       "      <td>portion</td>\n",
       "      <td>CGCI-HTMCP-CC.HTMCP-03-06-02001.HTMCP-03-06-02...</td>\n",
       "      <td>CGCI.HTMCP-03-06-02001</td>\n",
       "      <td>CGCI.HTMCP-03-06-02001</td>\n",
       "      <td>CGCI-HTMCP-CC.HTMCP-03-06-02001</td>\n",
       "    </tr>\n",
       "    <tr>\n",
       "      <th>2</th>\n",
       "      <td>CGCI-HTMCP-CC.HTMCP-03-06-02001.HTMCP-03-06-02...</td>\n",
       "      <td>[{'system': 'GDC', 'field_name': 'case.samples...</td>\n",
       "      <td>CGCI-HTMCP-CC</td>\n",
       "      <td>None</td>\n",
       "      <td>Squamous Cell Neoplasms</td>\n",
       "      <td>None</td>\n",
       "      <td>Primary Tumor</td>\n",
       "      <td>aliquot</td>\n",
       "      <td>CGCI-HTMCP-CC.HTMCP-03-06-02001.HTMCP-03-06-02...</td>\n",
       "      <td>CGCI.HTMCP-03-06-02001</td>\n",
       "      <td>CGCI.HTMCP-03-06-02001</td>\n",
       "      <td>CGCI-HTMCP-CC.HTMCP-03-06-02001</td>\n",
       "    </tr>\n",
       "    <tr>\n",
       "      <th>3</th>\n",
       "      <td>CGCI-HTMCP-CC.HTMCP-03-06-02001.HTMCP-03-06-02...</td>\n",
       "      <td>[{'system': 'GDC', 'field_name': 'case.samples...</td>\n",
       "      <td>CGCI-HTMCP-CC</td>\n",
       "      <td>None</td>\n",
       "      <td>Squamous Cell Neoplasms</td>\n",
       "      <td>None</td>\n",
       "      <td>Blood Derived Normal</td>\n",
       "      <td>aliquot</td>\n",
       "      <td>CGCI-HTMCP-CC.HTMCP-03-06-02001.HTMCP-03-06-02...</td>\n",
       "      <td>CGCI.HTMCP-03-06-02001</td>\n",
       "      <td>CGCI.HTMCP-03-06-02001</td>\n",
       "      <td>CGCI-HTMCP-CC.HTMCP-03-06-02001</td>\n",
       "    </tr>\n",
       "    <tr>\n",
       "      <th>4</th>\n",
       "      <td>CGCI-HTMCP-CC.HTMCP-03-06-02001.HTMCP-03-06-02...</td>\n",
       "      <td>[{'system': 'GDC', 'field_name': 'case.samples...</td>\n",
       "      <td>CGCI-HTMCP-CC</td>\n",
       "      <td>None</td>\n",
       "      <td>Squamous Cell Neoplasms</td>\n",
       "      <td>None</td>\n",
       "      <td>Primary Tumor</td>\n",
       "      <td>sample</td>\n",
       "      <td>initial specimen</td>\n",
       "      <td>CGCI.HTMCP-03-06-02001</td>\n",
       "      <td>CGCI.HTMCP-03-06-02001</td>\n",
       "      <td>CGCI-HTMCP-CC.HTMCP-03-06-02001</td>\n",
       "    </tr>\n",
       "  </tbody>\n",
       "</table>\n",
       "</div>"
      ],
      "text/plain": [
       "                                         specimen_id  \\\n",
       "0  CGCI-HTMCP-CC.HTMCP-03-06-02001.HTMCP-03-06-02...   \n",
       "1  CGCI-HTMCP-CC.HTMCP-03-06-02001.HTMCP-03-06-02...   \n",
       "2  CGCI-HTMCP-CC.HTMCP-03-06-02001.HTMCP-03-06-02...   \n",
       "3  CGCI-HTMCP-CC.HTMCP-03-06-02001.HTMCP-03-06-02...   \n",
       "4  CGCI-HTMCP-CC.HTMCP-03-06-02001.HTMCP-03-06-02...   \n",
       "\n",
       "                                 specimen_identifier  \\\n",
       "0  [{'system': 'GDC', 'field_name': 'case.samples...   \n",
       "1  [{'system': 'GDC', 'field_name': 'case.samples...   \n",
       "2  [{'system': 'GDC', 'field_name': 'case.samples...   \n",
       "3  [{'system': 'GDC', 'field_name': 'case.samples...   \n",
       "4  [{'system': 'GDC', 'field_name': 'case.samples...   \n",
       "\n",
       "  specimen_associated_project days_to_collection     primary_disease_type  \\\n",
       "0               CGCI-HTMCP-CC               None  Squamous Cell Neoplasms   \n",
       "1               CGCI-HTMCP-CC               None  Squamous Cell Neoplasms   \n",
       "2               CGCI-HTMCP-CC               None  Squamous Cell Neoplasms   \n",
       "3               CGCI-HTMCP-CC               None  Squamous Cell Neoplasms   \n",
       "4               CGCI-HTMCP-CC               None  Squamous Cell Neoplasms   \n",
       "\n",
       "  anatomical_site  source_material_type specimen_type  \\\n",
       "0            None         Primary Tumor       aliquot   \n",
       "1            None  Blood Derived Normal       portion   \n",
       "2            None         Primary Tumor       aliquot   \n",
       "3            None  Blood Derived Normal       aliquot   \n",
       "4            None         Primary Tumor        sample   \n",
       "\n",
       "                               derived_from_specimen    derived_from_subject  \\\n",
       "0  CGCI-HTMCP-CC.HTMCP-03-06-02001.HTMCP-03-06-02...  CGCI.HTMCP-03-06-02001   \n",
       "1  CGCI-HTMCP-CC.HTMCP-03-06-02001.HTMCP-03-06-02...  CGCI.HTMCP-03-06-02001   \n",
       "2  CGCI-HTMCP-CC.HTMCP-03-06-02001.HTMCP-03-06-02...  CGCI.HTMCP-03-06-02001   \n",
       "3  CGCI-HTMCP-CC.HTMCP-03-06-02001.HTMCP-03-06-02...  CGCI.HTMCP-03-06-02001   \n",
       "4                                   initial specimen  CGCI.HTMCP-03-06-02001   \n",
       "\n",
       "               subject_id               researchsubject_id  \n",
       "0  CGCI.HTMCP-03-06-02001  CGCI-HTMCP-CC.HTMCP-03-06-02001  \n",
       "1  CGCI.HTMCP-03-06-02001  CGCI-HTMCP-CC.HTMCP-03-06-02001  \n",
       "2  CGCI.HTMCP-03-06-02001  CGCI-HTMCP-CC.HTMCP-03-06-02001  \n",
       "3  CGCI.HTMCP-03-06-02001  CGCI-HTMCP-CC.HTMCP-03-06-02001  \n",
       "4  CGCI.HTMCP-03-06-02001  CGCI-HTMCP-CC.HTMCP-03-06-02001  "
      ]
     },
     "execution_count": 4,
     "metadata": {},
     "output_type": "execute_result"
    }
   ],
   "source": [
    "specimen_df.head()"
   ]
  },
  {
   "cell_type": "markdown",
   "metadata": {},
   "source": [
    "# Import data from CDA\n",
    "\n",
    "The CdaBiosampleFactory is still in prototype stage."
   ]
  },
  {
   "cell_type": "code",
   "execution_count": 7,
   "metadata": {},
   "outputs": [
    {
     "data": {
      "text/html": [
       "<pre style=\"white-space:pre;overflow-x:auto;line-height:normal;font-family:Menlo,'DejaVu Sans Mono',consolas,'Courier New',monospace\">We extracted <span style=\"color: #008080; text-decoration-color: #008080; font-weight: bold\">1187</span> GA4GH Phenopacket Biosample messages\n",
       "</pre>\n"
      ],
      "text/plain": [
       "We extracted \u001b[1;36m1187\u001b[0m GA4GH Phenopacket Biosample messages\n"
      ]
     },
     "metadata": {},
     "output_type": "display_data"
    }
   ],
   "source": [
    "biosample_factory = CdaBiosampleFactory()\n",
    "ga4gh_biosamples = []\n",
    "for _, row in specimen_df.iterrows():\n",
    "    ga4gh_biosamples.append(biosample_factory.to_ga4gh(row=row))\n",
    "print(f\"We extracted {len(ga4gh_biosamples)} GA4GH Phenopacket Biosample messages\")"
   ]
  },
  {
   "cell_type": "code",
   "execution_count": 6,
   "metadata": {},
   "outputs": [
    {
     "name": "stdout",
     "output_type": "stream",
     "text": [
      "('{\\n'\n",
      " '  \"id\": \"CGCI-HTMCP-CC.HTMCP-03-06-02001.HTMCP-03-06-02001-01A-03R-4427\",\\n'\n",
      " '  \"individualId\": \"CGCI.HTMCP-03-06-02001\",\\n'\n",
      " '  \"derivedFromId\": '\n",
      " '\"CGCI-HTMCP-CC.HTMCP-03-06-02001.HTMCP-03-06-02001-01A-03R\",\\n'\n",
      " '  \"sampleType\": {\\n'\n",
      " '    \"id\": \"NCIT:C25414\",\\n'\n",
      " '    \"label\": \"Aliquot\"\\n'\n",
      " '  },\\n'\n",
      " '  \"taxonomy\": {\\n'\n",
      " '    \"id\": \"NCBITaxon:9606\",\\n'\n",
      " '    \"label\": \"Homo sapiens\"\\n'\n",
      " '  },\\n'\n",
      " '  \"materialSample\": {\\n'\n",
      " '    \"id\": \"NCIT:C162622\",\\n'\n",
      " '    \"label\": \"Tumor Segment\"\\n'\n",
      " '  }\\n'\n",
      " '}')\n"
     ]
    }
   ],
   "source": [
    "from google.protobuf.json_format import MessageToJson\n",
    "from pprint import pprint\n",
    "json_string = MessageToJson(ga4gh_biosamples[0])\n",
    "pprint(json_string)"
   ]
  },
  {
   "cell_type": "code",
   "execution_count": null,
   "metadata": {},
   "outputs": [],
   "source": []
  }
 ],
 "metadata": {
  "kernelspec": {
   "display_name": "oe3_venv",
   "language": "python",
   "name": "python3"
  },
  "language_info": {
   "codemirror_mode": {
    "name": "ipython",
    "version": 3
   },
   "file_extension": ".py",
   "mimetype": "text/x-python",
   "name": "python",
   "nbconvert_exporter": "python",
   "pygments_lexer": "ipython3",
   "version": "3.8.10"
  }
 },
 "nbformat": 4,
 "nbformat_minor": 2
}
