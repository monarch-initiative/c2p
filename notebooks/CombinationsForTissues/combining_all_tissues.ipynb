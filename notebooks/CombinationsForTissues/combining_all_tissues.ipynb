{
 "cells": [
  {
   "cell_type": "code",
   "execution_count": 1,
   "metadata": {},
   "outputs": [],
   "source": [
    "import pandas as pd\n",
    "import os"
   ]
  },
  {
   "cell_type": "code",
   "execution_count": 2,
   "metadata": {},
   "outputs": [],
   "source": [
    "base_dir = '../CombinationsForTissues/results/'"
   ]
  },
  {
   "cell_type": "code",
   "execution_count": 12,
   "metadata": {},
   "outputs": [],
   "source": [
    "dataframes = {}\n",
    "csv_files = [f for f in os.listdir(base_dir) if f.endswith('.csv')]"
   ]
  },
  {
   "cell_type": "code",
   "execution_count": 13,
   "metadata": {},
   "outputs": [],
   "source": [
    "for file in csv_files:\n",
    "    file_path = os.path.join(base_dir, file)\n",
    "    key_name = file.replace('.csv', '').replace('_unique_combination', '')\n",
    "    key_name = key_name.lower()\n",
    "    dataframes[key_name] = pd.read_csv(file_path).drop('Unnamed: 0', axis=1)"
   ]
  },
  {
   "cell_type": "code",
   "execution_count": 15,
   "metadata": {},
   "outputs": [
    {
     "data": {
      "text/plain": [
       "dict_keys(['colon', 'breast', 'lung', 'skin', 'cervix', 'brain', 'bone', 'thyroid', 'pancreas', 'heart', 'kidney', 'liver'])"
      ]
     },
     "execution_count": 15,
     "metadata": {},
     "output_type": "execute_result"
    }
   ],
   "source": [
    "dataframes.keys()"
   ]
  },
  {
   "cell_type": "code",
   "execution_count": 32,
   "metadata": {},
   "outputs": [],
   "source": [
    "all_tissues_combined = pd.concat(dataframes, axis=0).reset_index(level=0).rename(columns={'level_0': 'key'})"
   ]
  },
  {
   "cell_type": "code",
   "execution_count": 33,
   "metadata": {},
   "outputs": [],
   "source": [
    "all_tissues_combined = all_tissues_combined.drop_duplicates(subset=['key', 'primary_diagnosis', 'primary_diagnosis_condition', 'primary_diagnosis_site'])"
   ]
  },
  {
   "cell_type": "code",
   "execution_count": 34,
   "metadata": {},
   "outputs": [],
   "source": [
    "all_tissues_combined = all_tissues_combined.reset_index(drop=True)"
   ]
  },
  {
   "cell_type": "code",
   "execution_count": 35,
   "metadata": {},
   "outputs": [],
   "source": [
    "all_tissues_combined.to_csv(f'../CombinationsForTissues/results/all_tissues_combined.csv')"
   ]
  },
  {
   "cell_type": "code",
   "execution_count": 36,
   "metadata": {},
   "outputs": [
    {
     "data": {
      "text/html": [
       "<div>\n",
       "<style scoped>\n",
       "    .dataframe tbody tr th:only-of-type {\n",
       "        vertical-align: middle;\n",
       "    }\n",
       "\n",
       "    .dataframe tbody tr th {\n",
       "        vertical-align: top;\n",
       "    }\n",
       "\n",
       "    .dataframe thead th {\n",
       "        text-align: right;\n",
       "    }\n",
       "</style>\n",
       "<table border=\"1\" class=\"dataframe\">\n",
       "  <thead>\n",
       "    <tr style=\"text-align: right;\">\n",
       "      <th></th>\n",
       "      <th>key</th>\n",
       "      <th>primary_diagnosis</th>\n",
       "      <th>primary_diagnosis_condition</th>\n",
       "      <th>primary_diagnosis_site</th>\n",
       "    </tr>\n",
       "  </thead>\n",
       "  <tbody>\n",
       "    <tr>\n",
       "      <th>0</th>\n",
       "      <td>colon</td>\n",
       "      <td>Adenocarcinoma, NOS</td>\n",
       "      <td>Adenomas and Adenocarcinomas</td>\n",
       "      <td>Colon</td>\n",
       "    </tr>\n",
       "    <tr>\n",
       "      <th>1</th>\n",
       "      <td>colon</td>\n",
       "      <td>Mucinous adenocarcinoma</td>\n",
       "      <td>Cystic, Mucinous and Serous Neoplasms</td>\n",
       "      <td>Colon</td>\n",
       "    </tr>\n",
       "    <tr>\n",
       "      <th>2</th>\n",
       "      <td>colon</td>\n",
       "      <td>Goblet cell carcinoid</td>\n",
       "      <td>Adenomas and Adenocarcinomas</td>\n",
       "      <td>Colon</td>\n",
       "    </tr>\n",
       "    <tr>\n",
       "      <th>3</th>\n",
       "      <td>colon</td>\n",
       "      <td>Medullary carcinoma, NOS</td>\n",
       "      <td>Ductal and Lobular Neoplasms</td>\n",
       "      <td>Colon</td>\n",
       "    </tr>\n",
       "    <tr>\n",
       "      <th>4</th>\n",
       "      <td>colon</td>\n",
       "      <td>Adenocarcinoma, NOS</td>\n",
       "      <td>Colon Adenocarcinoma</td>\n",
       "      <td>Colon</td>\n",
       "    </tr>\n",
       "    <tr>\n",
       "      <th>...</th>\n",
       "      <td>...</td>\n",
       "      <td>...</td>\n",
       "      <td>...</td>\n",
       "      <td>...</td>\n",
       "    </tr>\n",
       "    <tr>\n",
       "      <th>978</th>\n",
       "      <td>liver</td>\n",
       "      <td>Hepatoblastoma</td>\n",
       "      <td>Miscellaneous Tumors</td>\n",
       "      <td>Liver and intrahepatic bile ducts</td>\n",
       "    </tr>\n",
       "    <tr>\n",
       "      <th>979</th>\n",
       "      <td>liver</td>\n",
       "      <td>Cholangiocarcinoma</td>\n",
       "      <td>Adenomas and Adenocarcinomas</td>\n",
       "      <td>Liver and intrahepatic bile ducts</td>\n",
       "    </tr>\n",
       "    <tr>\n",
       "      <th>980</th>\n",
       "      <td>liver</td>\n",
       "      <td>Hepatocellular carcinoma, NOS</td>\n",
       "      <td>Adenomas and Adenocarcinomas</td>\n",
       "      <td>Liver and intrahepatic bile ducts</td>\n",
       "    </tr>\n",
       "    <tr>\n",
       "      <th>981</th>\n",
       "      <td>liver</td>\n",
       "      <td>Hepatocellular carcinoma, fibrolamellar</td>\n",
       "      <td>Adenomas and Adenocarcinomas</td>\n",
       "      <td>Liver and intrahepatic bile ducts</td>\n",
       "    </tr>\n",
       "    <tr>\n",
       "      <th>982</th>\n",
       "      <td>liver</td>\n",
       "      <td>Combined hepatocellular carcinoma and cholangi...</td>\n",
       "      <td>Adenomas and Adenocarcinomas</td>\n",
       "      <td>Liver and intrahepatic bile ducts</td>\n",
       "    </tr>\n",
       "  </tbody>\n",
       "</table>\n",
       "<p>983 rows × 4 columns</p>\n",
       "</div>"
      ],
      "text/plain": [
       "       key                                  primary_diagnosis  \\\n",
       "0    colon                                Adenocarcinoma, NOS   \n",
       "1    colon                            Mucinous adenocarcinoma   \n",
       "2    colon                              Goblet cell carcinoid   \n",
       "3    colon                           Medullary carcinoma, NOS   \n",
       "4    colon                                Adenocarcinoma, NOS   \n",
       "..     ...                                                ...   \n",
       "978  liver                                     Hepatoblastoma   \n",
       "979  liver                                 Cholangiocarcinoma   \n",
       "980  liver                      Hepatocellular carcinoma, NOS   \n",
       "981  liver            Hepatocellular carcinoma, fibrolamellar   \n",
       "982  liver  Combined hepatocellular carcinoma and cholangi...   \n",
       "\n",
       "               primary_diagnosis_condition             primary_diagnosis_site  \n",
       "0             Adenomas and Adenocarcinomas                              Colon  \n",
       "1    Cystic, Mucinous and Serous Neoplasms                              Colon  \n",
       "2             Adenomas and Adenocarcinomas                              Colon  \n",
       "3             Ductal and Lobular Neoplasms                              Colon  \n",
       "4                     Colon Adenocarcinoma                              Colon  \n",
       "..                                     ...                                ...  \n",
       "978                   Miscellaneous Tumors  Liver and intrahepatic bile ducts  \n",
       "979           Adenomas and Adenocarcinomas  Liver and intrahepatic bile ducts  \n",
       "980           Adenomas and Adenocarcinomas  Liver and intrahepatic bile ducts  \n",
       "981           Adenomas and Adenocarcinomas  Liver and intrahepatic bile ducts  \n",
       "982           Adenomas and Adenocarcinomas  Liver and intrahepatic bile ducts  \n",
       "\n",
       "[983 rows x 4 columns]"
      ]
     },
     "execution_count": 36,
     "metadata": {},
     "output_type": "execute_result"
    }
   ],
   "source": [
    "all_tissues_combined"
   ]
  },
  {
   "cell_type": "code",
   "execution_count": null,
   "metadata": {},
   "outputs": [],
   "source": []
  }
 ],
 "metadata": {
  "kernelspec": {
   "display_name": "env_3.10",
   "language": "python",
   "name": "python3"
  },
  "language_info": {
   "codemirror_mode": {
    "name": "ipython",
    "version": 3
   },
   "file_extension": ".py",
   "mimetype": "text/x-python",
   "name": "python",
   "nbconvert_exporter": "python",
   "pygments_lexer": "ipython3",
   "version": "3.10.7"
  }
 },
 "nbformat": 4,
 "nbformat_minor": 2
}
