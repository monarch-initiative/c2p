{
 "cells": [
  {
   "cell_type": "markdown",
   "id": "46f60092-b77d-4abe-97d9-ca2173ea4089",
   "metadata": {},
   "source": [
    "<h1>GA4GH Individual</h1>\n",
    "<p>This notebook demonstrates how to use the oncopacket Python package to create GA4GH Individual messages from Cancer Data Aggregator (CDA) data.\n",
    "We first extract data about a subjects in a CDA cohort and then use the package to create the Individual messages.</p>\n",
    "<p>The data is extracted from the <tt>subject</tt> table of CDA.</p>"
   ]
  },
  {
   "cell_type": "markdown",
   "metadata": {},
   "source": [
    "# Import classes from oncoexporter and CDA"
   ]
  },
  {
   "cell_type": "code",
   "execution_count": 1,
   "id": "f983ecf0-08e8-4e35-82c7-d4b89445be2b",
   "metadata": {},
   "outputs": [],
   "source": [
    "from oncoexporter.cda import CdaTableImporter, CdaIndividualFactory"
   ]
  },
  {
   "cell_type": "code",
   "execution_count": 2,
   "metadata": {},
   "outputs": [],
   "source": [
    "from cdapython import ( Q, set_default_project_dataset, set_host_url, set_table_version )\n",
    "\n",
    "set_default_project_dataset(\"gdc-bq-sample.dev\")\n",
    "set_host_url(\"http://35.192.60.10:8080/\")\n",
    "set_table_version(\"all_merged_subjects_v3_2_final\")"
   ]
  },
  {
   "cell_type": "markdown",
   "metadata": {},
   "source": [
    "# Set up the oncoexporter CdaTableImporter and retrieve the subject datafrom from CDA\n",
    "This hides some of the complexities of the CDA code"
   ]
  },
  {
   "cell_type": "code",
   "execution_count": 3,
   "metadata": {},
   "outputs": [
    {
     "data": {
      "text/html": [
       "<pre style=\"white-space:pre;overflow-x:auto;line-height:normal;font-family:Menlo,'DejaVu Sans Mono',consolas,'Courier New',monospace\">Retrieving dataframe .cervix cancer cohort_individual_df.pkl\n",
       "</pre>\n"
      ],
      "text/plain": [
       "Retrieving dataframe .cervix cancer cohort_individual_df.pkl\n"
      ]
     },
     "metadata": {},
     "output_type": "display_data"
    },
    {
     "data": {
      "text/html": [
       "<pre style=\"white-space:pre;overflow-x:auto;line-height:normal;font-family:Menlo,'DejaVu Sans Mono',consolas,'Courier New',monospace\">calling CDA function\n",
       "</pre>\n"
      ],
      "text/plain": [
       "calling CDA function\n"
      ]
     },
     "metadata": {},
     "output_type": "display_data"
    },
    {
     "data": {
      "text/html": [
       "<pre style=\"white-space:pre;overflow-x:auto;line-height:normal;font-family:Menlo,'DejaVu Sans Mono',consolas,'Courier New',monospace\">Getting <span style=\"color: #008080; text-decoration-color: #008080; font-weight: bold\">10000</span> results from database \n",
       "\n",
       "</pre>\n"
      ],
      "text/plain": [
       "Getting \u001b[1;36m10000\u001b[0m results from database \n",
       "\n"
      ]
     },
     "metadata": {},
     "output_type": "display_data"
    },
    {
     "data": {
      "text/html": [
       "<pre style=\"white-space:pre;overflow-x:auto;line-height:normal;font-family:Menlo,'DejaVu Sans Mono',consolas,'Courier New',monospace\">\n",
       "                            Total execution time: <span style=\"color: #008080; text-decoration-color: #008080; font-weight: bold\">0</span>\n",
       "                            min <span style=\"color: #008080; text-decoration-color: #008080; font-weight: bold\">4.275</span> sec <span style=\"color: #008080; text-decoration-color: #008080; font-weight: bold\">4275</span> ms\n",
       "                            \n",
       "</pre>\n"
      ],
      "text/plain": [
       "\n",
       "                            Total execution time: \u001b[1;36m0\u001b[0m\n",
       "                            min \u001b[1;36m4.275\u001b[0m sec \u001b[1;36m4275\u001b[0m ms\n",
       "                            \n"
      ]
     },
     "metadata": {},
     "output_type": "display_data"
    },
    {
     "data": {
      "text/html": [
       "<pre style=\"white-space:pre;overflow-x:auto;line-height:normal;font-family:Menlo,'DejaVu Sans Mono',consolas,'Courier New',monospace\"></pre>\n"
      ],
      "text/plain": [
       "\u001b[?1049h\u001b[H"
      ]
     },
     "metadata": {},
     "output_type": "display_data"
    },
    {
     "data": {
      "text/html": [
       "<pre style=\"white-space:pre;overflow-x:auto;line-height:normal;font-family:Menlo,'DejaVu Sans Mono',consolas,'Courier New',monospace\"></pre>\n"
      ],
      "text/plain": [
       "\u001b[?25l"
      ]
     },
     "metadata": {},
     "output_type": "display_data"
    },
    {
     "data": {
      "application/vnd.jupyter.widget-view+json": {
       "model_id": "b22ff4d1518d4b13bc38643e01c9a63b",
       "version_major": 2,
       "version_minor": 0
      },
      "text/plain": [
       "Output()"
      ]
     },
     "metadata": {},
     "output_type": "display_data"
    },
    {
     "data": {
      "text/html": [
       "<pre style=\"white-space:pre;overflow-x:auto;line-height:normal;font-family:Menlo,'DejaVu Sans Mono',consolas,'Courier New',monospace\"></pre>\n"
      ],
      "text/plain": [
       "\u001b[?25h\u001b[?1049l"
      ]
     },
     "metadata": {},
     "output_type": "display_data"
    }
   ],
   "source": [
    "cohort_name = \"cervix cancer cohort\"\n",
    "query = 'treatment_anatomic_site = \"Cervix\"'\n",
    "Tsite = Q('treatment_anatomic_site = \"Cervix\"')\n",
    "tableImporter = CdaTableImporter(cohort_name=cohort_name, query_obj=Tsite)\n",
    "subject_df = tableImporter.get_subject_df();\n"
   ]
  },
  {
   "cell_type": "code",
   "execution_count": 4,
   "metadata": {},
   "outputs": [
    {
     "data": {
      "text/html": [
       "<div>\n",
       "<style scoped>\n",
       "    .dataframe tbody tr th:only-of-type {\n",
       "        vertical-align: middle;\n",
       "    }\n",
       "\n",
       "    .dataframe tbody tr th {\n",
       "        vertical-align: top;\n",
       "    }\n",
       "\n",
       "    .dataframe thead th {\n",
       "        text-align: right;\n",
       "    }\n",
       "</style>\n",
       "<table border=\"1\" class=\"dataframe\">\n",
       "  <thead>\n",
       "    <tr style=\"text-align: right;\">\n",
       "      <th></th>\n",
       "      <th>subject_id</th>\n",
       "      <th>subject_identifier</th>\n",
       "      <th>species</th>\n",
       "      <th>sex</th>\n",
       "      <th>race</th>\n",
       "      <th>ethnicity</th>\n",
       "      <th>days_to_birth</th>\n",
       "      <th>subject_associated_project</th>\n",
       "      <th>vital_status</th>\n",
       "      <th>days_to_death</th>\n",
       "      <th>cause_of_death</th>\n",
       "    </tr>\n",
       "  </thead>\n",
       "  <tbody>\n",
       "    <tr>\n",
       "      <th>0</th>\n",
       "      <td>CGCI.HTMCP-03-06-02074</td>\n",
       "      <td>[{'system': 'GDC', 'field_name': 'case.submitt...</td>\n",
       "      <td>Homo sapiens</td>\n",
       "      <td>female</td>\n",
       "      <td>black or african american</td>\n",
       "      <td>not reported</td>\n",
       "      <td>-23305.0</td>\n",
       "      <td>[CGCI-HTMCP-CC]</td>\n",
       "      <td>Alive</td>\n",
       "      <td>NaN</td>\n",
       "      <td>None</td>\n",
       "    </tr>\n",
       "    <tr>\n",
       "      <th>1</th>\n",
       "      <td>CGCI.HTMCP-03-06-02147</td>\n",
       "      <td>[{'system': 'GDC', 'field_name': 'case.submitt...</td>\n",
       "      <td>Homo sapiens</td>\n",
       "      <td>female</td>\n",
       "      <td>black or african american</td>\n",
       "      <td>Unknown</td>\n",
       "      <td>NaN</td>\n",
       "      <td>[CGCI-HTMCP-CC]</td>\n",
       "      <td>Alive</td>\n",
       "      <td>NaN</td>\n",
       "      <td>None</td>\n",
       "    </tr>\n",
       "    <tr>\n",
       "      <th>2</th>\n",
       "      <td>CGCI.HTMCP-03-06-02206</td>\n",
       "      <td>[{'system': 'GDC', 'field_name': 'case.submitt...</td>\n",
       "      <td>Homo sapiens</td>\n",
       "      <td>female</td>\n",
       "      <td>black or african american</td>\n",
       "      <td>Unknown</td>\n",
       "      <td>NaN</td>\n",
       "      <td>[CGCI-HTMCP-CC]</td>\n",
       "      <td>Alive</td>\n",
       "      <td>NaN</td>\n",
       "      <td>None</td>\n",
       "    </tr>\n",
       "    <tr>\n",
       "      <th>3</th>\n",
       "      <td>CGCI.HTMCP-03-06-02003</td>\n",
       "      <td>[{'system': 'GDC', 'field_name': 'case.submitt...</td>\n",
       "      <td>Homo sapiens</td>\n",
       "      <td>female</td>\n",
       "      <td>black or african american</td>\n",
       "      <td>not reported</td>\n",
       "      <td>NaN</td>\n",
       "      <td>[CGCI-HTMCP-CC]</td>\n",
       "      <td>Dead</td>\n",
       "      <td>510.0</td>\n",
       "      <td>Unknown</td>\n",
       "    </tr>\n",
       "    <tr>\n",
       "      <th>4</th>\n",
       "      <td>CGCI.HTMCP-03-06-02082</td>\n",
       "      <td>[{'system': 'GDC', 'field_name': 'case.submitt...</td>\n",
       "      <td>Homo sapiens</td>\n",
       "      <td>female</td>\n",
       "      <td>black or african american</td>\n",
       "      <td>not reported</td>\n",
       "      <td>-18106.0</td>\n",
       "      <td>[CGCI-HTMCP-CC]</td>\n",
       "      <td>Alive</td>\n",
       "      <td>NaN</td>\n",
       "      <td>None</td>\n",
       "    </tr>\n",
       "  </tbody>\n",
       "</table>\n",
       "</div>"
      ],
      "text/plain": [
       "               subject_id                                 subject_identifier  \\\n",
       "0  CGCI.HTMCP-03-06-02074  [{'system': 'GDC', 'field_name': 'case.submitt...   \n",
       "1  CGCI.HTMCP-03-06-02147  [{'system': 'GDC', 'field_name': 'case.submitt...   \n",
       "2  CGCI.HTMCP-03-06-02206  [{'system': 'GDC', 'field_name': 'case.submitt...   \n",
       "3  CGCI.HTMCP-03-06-02003  [{'system': 'GDC', 'field_name': 'case.submitt...   \n",
       "4  CGCI.HTMCP-03-06-02082  [{'system': 'GDC', 'field_name': 'case.submitt...   \n",
       "\n",
       "        species     sex                       race     ethnicity  \\\n",
       "0  Homo sapiens  female  black or african american  not reported   \n",
       "1  Homo sapiens  female  black or african american       Unknown   \n",
       "2  Homo sapiens  female  black or african american       Unknown   \n",
       "3  Homo sapiens  female  black or african american  not reported   \n",
       "4  Homo sapiens  female  black or african american  not reported   \n",
       "\n",
       "   days_to_birth subject_associated_project vital_status  days_to_death  \\\n",
       "0       -23305.0            [CGCI-HTMCP-CC]        Alive            NaN   \n",
       "1            NaN            [CGCI-HTMCP-CC]        Alive            NaN   \n",
       "2            NaN            [CGCI-HTMCP-CC]        Alive            NaN   \n",
       "3            NaN            [CGCI-HTMCP-CC]         Dead          510.0   \n",
       "4       -18106.0            [CGCI-HTMCP-CC]        Alive            NaN   \n",
       "\n",
       "  cause_of_death  \n",
       "0           None  \n",
       "1           None  \n",
       "2           None  \n",
       "3        Unknown  \n",
       "4           None  "
      ]
     },
     "execution_count": 4,
     "metadata": {},
     "output_type": "execute_result"
    }
   ],
   "source": [
    "subject_df.head()"
   ]
  },
  {
   "cell_type": "markdown",
   "id": "0e27f907-056a-40fe-b23a-ea2e24a8b9dc",
   "metadata": {},
   "source": [
    "## Import the data from CDA\n",
    "\n",
    "The CdaIndividualFactory class contains the code for ETL'ing the data from CDA subject to GA4GH Individual."
   ]
  },
  {
   "cell_type": "code",
   "execution_count": 5,
   "id": "fd4ad583-4480-433c-9269-8f6763ecd7fa",
   "metadata": {},
   "outputs": [
    {
     "data": {
      "text/html": [
       "<pre style=\"white-space:pre;overflow-x:auto;line-height:normal;font-family:Menlo,'DejaVu Sans Mono',consolas,'Courier New',monospace\">We extracted <span style=\"color: #008080; text-decoration-color: #008080; font-weight: bold\">85</span> GA4GH Phenopacket Individual messages\n",
       "</pre>\n"
      ],
      "text/plain": [
       "We extracted \u001b[1;36m85\u001b[0m GA4GH Phenopacket Individual messages\n"
      ]
     },
     "metadata": {},
     "output_type": "display_data"
    }
   ],
   "source": [
    "individual_factory = CdaIndividualFactory()\n",
    "ga4gh_individuals = []\n",
    "for _, row in subject_df.iterrows():\n",
    "    ga4gh_individuals.append(individual_factory.to_ga4gh_individual(row=row))\n",
    "print(f\"We extracted {len(ga4gh_individuals)} GA4GH Phenopacket Individual messages\")"
   ]
  },
  {
   "cell_type": "code",
   "execution_count": 6,
   "id": "4a6ceacb-9476-4e9b-a5e5-524a9cbfa048",
   "metadata": {},
   "outputs": [
    {
     "name": "stdout",
     "output_type": "stream",
     "text": [
      "('{\\n'\n",
      " '  \"id\": \"CGCI.HTMCP-03-06-02074\",\\n'\n",
      " '  \"timeAtLastEncounter\": {\\n'\n",
      " '    \"age\": {\\n'\n",
      " '      \"iso8601duration\": \"P63Y24M1W\"\\n'\n",
      " '    }\\n'\n",
      " '  },\\n'\n",
      " '  \"vitalStatus\": {\\n'\n",
      " '    \"status\": \"ALIVE\"\\n'\n",
      " '  },\\n'\n",
      " '  \"sex\": \"FEMALE\",\\n'\n",
      " '  \"taxonomy\": {\\n'\n",
      " '    \"id\": \"NCBITaxon:9606\",\\n'\n",
      " '    \"label\": \"Homo sapiens\"\\n'\n",
      " '  }\\n'\n",
      " '}')\n"
     ]
    }
   ],
   "source": [
    "from google.protobuf.json_format import MessageToJson\n",
    "from pprint import pprint\n",
    "json_string = MessageToJson(ga4gh_individuals[0])\n",
    "pprint(json_string)"
   ]
  },
  {
   "cell_type": "code",
   "execution_count": null,
   "id": "5f35d7aa",
   "metadata": {},
   "outputs": [],
   "source": []
  }
 ],
 "metadata": {
  "kernelspec": {
   "display_name": "Python 3 (ipykernel)",
   "language": "python",
   "name": "python3"
  },
  "language_info": {
   "codemirror_mode": {
    "name": "ipython",
    "version": 3
   },
   "file_extension": ".py",
   "mimetype": "text/x-python",
   "name": "python",
   "nbconvert_exporter": "python",
   "pygments_lexer": "ipython3",
   "version": "3.8.10"
  }
 },
 "nbformat": 4,
 "nbformat_minor": 5
}
