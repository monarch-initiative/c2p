{
 "cells": [
  {
   "cell_type": "code",
   "execution_count": null,
   "metadata": {},
   "outputs": [],
   "source": [
    "import os\n",
    "from google.protobuf.json_format import MessageToJson\n",
    "\n",
    "# https://cda.readthedocs.io/en/latest/documentation/cdapython/code_update/#install\n",
    "#from cdapython import Q\n",
    "from cdapython import tables, columns, column_values, fetch_rows, summary_counts # updated CDA \n",
    "from oncoexporter.cda import CdaTableImporter, configure_cda_table_importer\n",
    "\n",
    "'''\n",
    "https://cda.readthedocs.io/en/latest/documentation/cdapython/code_update/#returning-a-matrix-of-results\n",
    "old: all of the functions previously used with, or chained onto Q()...run() have been replaced with the single function fetch_rows()\n",
    "\n",
    "fetch_rows(table=None, *, match_all=[], match_any=[], data_source=[], add_columns=[], link_to_table='', provenance=False, count_only=False, return_data_as='dataframe', output_file='', debug=False)\n",
    "\n",
    "fetch_rows( table='subject', match_all=[ 'primary_disease_type = *duct*', 'sex = F*' ] )\n",
    "fetch_rows( table='researchsubject', match_all=[ 'primary_diagnosis_site = NULL' ] )\n",
    "'''\n",
    "######   Input parameters  ########\n",
    "table_importer: CdaTableImporter = configure_cda_table_importer(use_cache=False)\n",
    "\n",
    "#Tsite = Q('primary_diagnosis_site = \"%lung%\" OR primary_diagnosis_site = \"%pulmonary%\"')\n",
    "# b = {'x':42, 'y':None}\n",
    "# function(1, **b) # equal to function(1, x=42, y=None)\n",
    "Query = {'match_any': ['primary_diagnosis_site = *lung*' , 'primary_diagnosis_site = *pulmonary*'],\n",
    "         'data_source': 'GDC'}\n",
    "cohort_name = 'Lung'\n",
    "#################################### \n",
    " \n",
    "p = table_importer.get_ga4gh_phenopackets(Query, cohort_name=cohort_name)\n",
    "p[0]\n",
    "result_dir = os.path.abspath(os.path.join('phenopackets', cohort_name))\n",
    "#os.makedirs(result_dir, exist_ok=True) # overwrite existing directory\n",
    "\n",
    "#print(f'Writing {len(p)} phenopackets to {result_dir}')\n",
    "#for pp in p:\n",
    "#    file_path = os.path.join(result_dir, f'{pp.id}.json')\n",
    "#    with open(file_path, 'w') as fh:\n",
    "#        json = MessageToJson(pp)\n",
    "#        fh.write(json)\n"
   ]
  },
  {
   "cell_type": "code",
   "execution_count": 15,
   "metadata": {},
   "outputs": [
    {
     "data": {
      "text/plain": [
       "[   total_subject_matches\n",
       " 0                   2732,\n",
       "    total_related_files\n",
       " 0               529628,\n",
       "   system  count\n",
       " 0    GDC   2427\n",
       " 1    IDC   1380\n",
       " 2    PDC    269\n",
       " 3    CDS    216\n",
       " 4   ICDC      1,\n",
       "       sex  count\n",
       " 0    male   1484\n",
       " 1  female    950\n",
       " 2       M    122\n",
       " 3       F     89\n",
       " 4    Male     50\n",
       " 5  Female     35\n",
       " 6              2,\n",
       "                                         race  count\n",
       " 0                                      white   1541\n",
       " 1                                               810\n",
       " 2                  black or african american    266\n",
       " 3                                      White     59\n",
       " 4                                      asian     41\n",
       " 5                  Black or African American     11\n",
       " 6           american indian or alaska native      2\n",
       " 7                                      Asian      1\n",
       " 8  native hawaiian or other pacific islander      1,\n",
       "                  ethnicity  count\n",
       " 0   not hispanic or latino   1275\n",
       " 1                            1205\n",
       " 2       hispanic or latino    129\n",
       " 3   Not Hispanic or Latino     71\n",
       " 4                    White     33\n",
       " 5                        C      6\n",
       " 6                        1      4\n",
       " 7                        W      3\n",
       " 8                    Black      2\n",
       " 9                      UNK      2\n",
       " 10                       H      1\n",
       " 11      Hispanic or Latino      1,\n",
       "                  cause_of_death  count\n",
       " 0                                 2558\n",
       " 1                Cancer Related    154\n",
       " 2                     Infection      7\n",
       " 3                      Toxicity      7\n",
       " 4            Not Cancer Related      4\n",
       " 5  Cardiovascular Disorder, NOS      1\n",
       " 6        Surgical Complications      1]"
      ]
     },
     "execution_count": 15,
     "metadata": {},
     "output_type": "execute_result"
    }
   ],
   "source": [
    "from cdapython import tables, columns, column_values,  fetch_rows, summary_counts\n",
    "#columns(return_data_as='', output_file='', sort_by='', debug=False, table='Diagnosis')\n",
    "#tables()\n",
    "#column_values( 'variant_type' )\n",
    "#columns(table='mutation')\n",
    "#fetch_rows( table= \"subject\", match_all='primary_diagnosis_site = kid*' )\n",
    "#fetch_rows( table= \"mutation\", match_all = 'subject_id = TCGA.TCGA-04-1369')\n",
    "\n",
    "summary_counts( table= 'subject', match_all = 'primary_diagnosis_site = kid*')"
   ]
  }
 ],
 "metadata": {
  "kernelspec": {
   "display_name": "Phenopackets",
   "language": "python",
   "name": "python3"
  },
  "language_info": {
   "codemirror_mode": {
    "name": "ipython",
    "version": 3
   },
   "file_extension": ".py",
   "mimetype": "text/x-python",
   "name": "python",
   "nbconvert_exporter": "python",
   "pygments_lexer": "ipython3",
   "version": "3.11.8"
  }
 },
 "nbformat": 4,
 "nbformat_minor": 2
}
